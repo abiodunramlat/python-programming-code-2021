{
 "cells": [
  {
   "cell_type": "code",
   "execution_count": 2,
   "id": "7b460eb7",
   "metadata": {},
   "outputs": [
    {
     "name": "stdout",
     "output_type": "stream",
     "text": [
      "datatype of num_int: <class 'int'>\n",
      "datatype of num_flo: <class 'float'>\n",
      "value of num_new: 124.23\n",
      "datatype of num_new: <class 'float'>\n"
     ]
    }
   ],
   "source": [
    "# Implicit Type Conversion\n",
    "num_int = 123     # integer\n",
    "num_flo = 1.23    # float\n",
    "\n",
    "num_new = num_int + num_flo\n",
    "print(\"datatype of num_int:\", type(num_int))\n",
    "print(\"datatype of num_flo:\", type(num_flo))\n",
    "\n",
    "print(\"value of num_new:\",(num_new))\n",
    "print(\"datatype of num_new:\", type(num_new))\n",
    "      "
   ]
  },
  {
   "cell_type": "code",
   "execution_count": 3,
   "id": "6953fe4c-bb7d-4ae1-a7ae-7d7435db22f2",
   "metadata": {},
   "outputs": [
    {
     "name": "stdout",
     "output_type": "stream",
     "text": [
      "datatype of num_int: <class 'int'>\n",
      "datatype of num_str: <class 'str'>\n"
     ]
    }
   ],
   "source": [
    "# Addition of string(higher) data type and integer(lower) datatype\n",
    "num_int = 123\n",
    "num_str = \"456\"\n",
    "\n",
    "print(\"datatype of num_int:\", type(num_int))\n",
    "print(\"datatype of num_str:\", type(num_str))\n",
    "# Error : Implicit conversion will not work here\n",
    "# print(num_int + num_str)"
   ]
  },
  {
   "cell_type": "code",
   "execution_count": 4,
   "id": "2d380d7a-75ec-4f71-a166-2c61df1114ae",
   "metadata": {},
   "outputs": [
    {
     "name": "stdout",
     "output_type": "stream",
     "text": [
      "datatype of num_int: <class 'int'>\n",
      "datatype of num_str: <class 'str'>\n"
     ]
    },
    {
     "ename": "TypeError",
     "evalue": "unsupported operand type(s) for +: 'int' and 'str'",
     "output_type": "error",
     "traceback": [
      "\u001b[1;31m---------------------------------------------------------------------------\u001b[0m",
      "\u001b[1;31mTypeError\u001b[0m                                 Traceback (most recent call last)",
      "\u001b[1;32m<ipython-input-4-8462b6b41d0b>\u001b[0m in \u001b[0;36m<module>\u001b[1;34m\u001b[0m\n\u001b[0;32m      6\u001b[0m \u001b[0mprint\u001b[0m\u001b[1;33m(\u001b[0m\u001b[1;34m\"datatype of num_str:\"\u001b[0m\u001b[1;33m,\u001b[0m \u001b[0mtype\u001b[0m\u001b[1;33m(\u001b[0m\u001b[0mnum_str\u001b[0m\u001b[1;33m)\u001b[0m\u001b[1;33m)\u001b[0m\u001b[1;33m\u001b[0m\u001b[1;33m\u001b[0m\u001b[0m\n\u001b[0;32m      7\u001b[0m \u001b[1;31m# Error : Implicit conversion will not work here\u001b[0m\u001b[1;33m\u001b[0m\u001b[1;33m\u001b[0m\u001b[1;33m\u001b[0m\u001b[0m\n\u001b[1;32m----> 8\u001b[1;33m \u001b[0mprint\u001b[0m\u001b[1;33m(\u001b[0m\u001b[0mnum_int\u001b[0m \u001b[1;33m+\u001b[0m \u001b[0mnum_str\u001b[0m\u001b[1;33m)\u001b[0m\u001b[1;33m\u001b[0m\u001b[1;33m\u001b[0m\u001b[0m\n\u001b[0m",
      "\u001b[1;31mTypeError\u001b[0m: unsupported operand type(s) for +: 'int' and 'str'"
     ]
    }
   ],
   "source": [
    "# Addition of string(higher) data type and integer(lower) datatype\n",
    "num_int = 123\n",
    "num_str = \"456\"\n",
    "\n",
    "print(\"datatype of num_int:\", type(num_int))\n",
    "print(\"datatype of num_str:\", type(num_str))\n",
    "# Error : Implicit conversion will not work here\n",
    "print(num_int + num_str) "
   ]
  },
  {
   "cell_type": "code",
   "execution_count": 8,
   "id": "c8b8bf5b-8d7c-46ea-91c9-13934ecede8c",
   "metadata": {},
   "outputs": [
    {
     "name": "stdout",
     "output_type": "stream",
     "text": [
      "data type of num_int: <class 'int'>\n",
      "data type of num_str before type casting: <class 'str'>\n",
      "Data type of num_str after type casting: <class 'int'>\n",
      "sum of num_int and num_str: 579\n",
      "Data Type of the sum: <class 'int'>\n"
     ]
    }
   ],
   "source": [
    "# Explicit Type Conversion\n",
    "num_int = 123\n",
    "num_str = \"456\"\n",
    "\n",
    "print(\"data type of num_int:\", type(num_int))\n",
    "print(\"data type of num_str before type casting:\", type(num_str))\n",
    "\n",
    "num_str = int(num_str)        # converting string to int\n",
    "print(\"Data type of num_str after type casting:\",type(num_str))\n",
    "\n",
    "num_sum = num_int + num_str\n",
    "\n",
    "print(\"sum of num_int and num_str:\",num_sum)\n",
    "print(\"Data Type of the sum:\",type(num_sum))"
   ]
  },
  {
   "cell_type": "code",
   "execution_count": null,
   "id": "36b35f37-7152-43a7-956a-9b5c2da25989",
   "metadata": {},
   "outputs": [],
   "source": []
  },
  {
   "cell_type": "code",
   "execution_count": null,
   "id": "11e0f8a8-ce55-4171-868c-27faef167d8b",
   "metadata": {},
   "outputs": [],
   "source": []
  },
  {
   "cell_type": "code",
   "execution_count": null,
   "id": "e56ca98a-0878-4d72-8843-5636affc37c5",
   "metadata": {},
   "outputs": [],
   "source": []
  }
 ],
 "metadata": {
  "kernelspec": {
   "display_name": "Python 3",
   "language": "python",
   "name": "python3"
  },
  "language_info": {
   "codemirror_mode": {
    "name": "ipython",
    "version": 3
   },
   "file_extension": ".py",
   "mimetype": "text/x-python",
   "name": "python",
   "nbconvert_exporter": "python",
   "pygments_lexer": "ipython3",
   "version": "3.8.8"
  }
 },
 "nbformat": 4,
 "nbformat_minor": 5
}
