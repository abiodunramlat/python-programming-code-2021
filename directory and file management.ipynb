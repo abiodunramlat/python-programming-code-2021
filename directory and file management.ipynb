{
 "cells": [
  {
   "cell_type": "code",
   "execution_count": 1,
   "id": "51f93446",
   "metadata": {},
   "outputs": [
    {
     "name": "stdout",
     "output_type": "stream",
     "text": [
      "C:\\Users\\abiodunramlat\n",
      "b'C:\\\\Users\\\\abiodunramlat'\n"
     ]
    }
   ],
   "source": [
    "import os\n",
    "print(os.getcwd())          # Returns the present working directory\n",
    "print(os.getcwdb())         # Returns the present working directory as a byte object"
   ]
  },
  {
   "cell_type": "code",
   "execution_count": 3,
   "id": "4d8671f7-55c3-4ef8-9e76-b4d638334553",
   "metadata": {},
   "outputs": [
    {
     "ename": "FileNotFoundError",
     "evalue": "[WinError 2] The system cannot find the file specified: 'C:\\\\Users\\\\abiodunramlat\\\\FileTest'",
     "output_type": "error",
     "traceback": [
      "\u001b[1;31m---------------------------------------------------------------------------\u001b[0m",
      "\u001b[1;31mFileNotFoundError\u001b[0m                         Traceback (most recent call last)",
      "\u001b[1;32m<ipython-input-3-70bb5c956102>\u001b[0m in \u001b[0;36m<module>\u001b[1;34m\u001b[0m\n\u001b[1;32m----> 1\u001b[1;33m \u001b[0mos\u001b[0m\u001b[1;33m.\u001b[0m\u001b[0mchdir\u001b[0m\u001b[1;33m(\u001b[0m\u001b[1;34m'C:\\\\Users\\\\abiodunramlat\\\\FileTest'\u001b[0m\u001b[1;33m)\u001b[0m        \u001b[1;31m# Use to change directory\u001b[0m\u001b[1;33m\u001b[0m\u001b[1;33m\u001b[0m\u001b[0m\n\u001b[0m\u001b[0;32m      2\u001b[0m \u001b[0mprint\u001b[0m\u001b[1;33m(\u001b[0m\u001b[0mos\u001b[0m\u001b[1;33m.\u001b[0m\u001b[0mlistdir\u001b[0m\u001b[1;33m(\u001b[0m\u001b[1;33m)\u001b[0m\u001b[1;33m)\u001b[0m                                   \u001b[1;31m# All files and sub directories inside a directory\u001b[0m\u001b[1;33m\u001b[0m\u001b[1;33m\u001b[0m\u001b[0m\n\u001b[0;32m      3\u001b[0m \u001b[0mprint\u001b[0m\u001b[1;33m(\u001b[0m\u001b[0mos\u001b[0m\u001b[1;33m.\u001b[0m\u001b[0mgetcwd\u001b[0m\u001b[1;33m(\u001b[0m\u001b[1;33m)\u001b[0m\u001b[1;33m)\u001b[0m                                    \u001b[1;31m# Returns the present working directory                                                      # can be known using the listdir() method\u001b[0m\u001b[1;33m\u001b[0m\u001b[1;33m\u001b[0m\u001b[0m\n",
      "\u001b[1;31mFileNotFoundError\u001b[0m: [WinError 2] The system cannot find the file specified: 'C:\\\\Users\\\\abiodunramlat\\\\FileTest'"
     ]
    }
   ],
   "source": [
    "os.chdir('C:\\\\Users\\\\abiodunramlat\\\\FileTest')        # Use to change directory\n",
    "print(os.listdir())                                   # All files and sub directories inside a directory\n",
    "print(os.getcwd())                                    # Returns the present working directory                                                      # can be known using the listdir() method"
   ]
  },
  {
   "cell_type": "code",
   "execution_count": 4,
   "id": "c22a6a45-fe17-4227-b41f-2ac5184645d0",
   "metadata": {},
   "outputs": [],
   "source": [
    "# Used to make a new directory\n",
    "os.mkdir('Test')"
   ]
  },
  {
   "cell_type": "code",
   "execution_count": 5,
   "id": "0baf036f-e5d1-4df6-af06-3ca902238f7b",
   "metadata": {},
   "outputs": [
    {
     "ename": "TypeError",
     "evalue": "rename() missing required argument 'dst' (pos 2)",
     "output_type": "error",
     "traceback": [
      "\u001b[1;31m---------------------------------------------------------------------------\u001b[0m",
      "\u001b[1;31mTypeError\u001b[0m                                 Traceback (most recent call last)",
      "\u001b[1;32m<ipython-input-5-0a55c6170fe7>\u001b[0m in \u001b[0;36m<module>\u001b[1;34m\u001b[0m\n\u001b[0;32m      1\u001b[0m \u001b[1;31m# Used to rename the directory\u001b[0m\u001b[1;33m\u001b[0m\u001b[1;33m\u001b[0m\u001b[1;33m\u001b[0m\u001b[0m\n\u001b[1;32m----> 2\u001b[1;33m \u001b[0mos\u001b[0m\u001b[1;33m.\u001b[0m\u001b[0mrename\u001b[0m\u001b[1;33m(\u001b[0m\u001b[1;34m'Test'\u001b[0m \u001b[1;34m'New_One'\u001b[0m\u001b[1;33m)\u001b[0m\u001b[1;33m\u001b[0m\u001b[1;33m\u001b[0m\u001b[0m\n\u001b[0m",
      "\u001b[1;31mTypeError\u001b[0m: rename() missing required argument 'dst' (pos 2)"
     ]
    }
   ],
   "source": [
    "# Used to rename the directory\n",
    "os.rename('Test' 'New_One')"
   ]
  },
  {
   "cell_type": "code",
   "execution_count": null,
   "id": "7249b257-3c6e-441a-bf4b-637fafd8ca3d",
   "metadata": {},
   "outputs": [],
   "source": [
    "# Removing a file and directory\n",
    "os.remove('Test.txt')                        # Use to remove a file\n",
    "os.rmdir('New_One')                          # use to remove a directory"
   ]
  },
  {
   "cell_type": "code",
   "execution_count": null,
   "id": "eef98a8d-fb8a-4886-a195-51cc6591f297",
   "metadata": {},
   "outputs": [],
   "source": [
    "os.chdir('C:\\\\Users\\\\abiodunramlat')"
   ]
  }
 ],
 "metadata": {
  "kernelspec": {
   "display_name": "Python 3",
   "language": "python",
   "name": "python3"
  },
  "language_info": {
   "codemirror_mode": {
    "name": "ipython",
    "version": 3
   },
   "file_extension": ".py",
   "mimetype": "text/x-python",
   "name": "python",
   "nbconvert_exporter": "python",
   "pygments_lexer": "ipython3",
   "version": "3.8.8"
  }
 },
 "nbformat": 4,
 "nbformat_minor": 5
}
