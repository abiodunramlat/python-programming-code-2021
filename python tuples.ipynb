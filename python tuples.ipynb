{
 "cells": [
  {
   "cell_type": "code",
   "execution_count": 2,
   "id": "ddc48b2d",
   "metadata": {},
   "outputs": [
    {
     "name": "stdout",
     "output_type": "stream",
     "text": [
      "()\n",
      "(1, 2, 3)\n",
      "(101, 'Anirban', 20000.0, 'HR Dept')\n"
     ]
    }
   ],
   "source": [
    "# creating an empty tuple\n",
    "tuple1 = ()\n",
    "print(tuple1)\n",
    "\n",
    "# creating tuples with integer elements\n",
    "tuple2 = (1, 2, 3)\n",
    "print(tuple2)\n",
    "\n",
    "# tuple with mixed datatypes\n",
    "tuple3 = (101, \"Anirban\", 20000.00, \"HR Dept\")\n",
    "print(tuple3)"
   ]
  },
  {
   "cell_type": "code",
   "execution_count": 4,
   "id": "027e82a7-62b0-49bf-8b72-b91dc1f47771",
   "metadata": {},
   "outputs": [
    {
     "name": "stdout",
     "output_type": "stream",
     "text": [
      "('points', [1, 4, 3], (7, 8, 6))\n",
      "(101, 'Anirban', 20000.0, 'HR Dept')\n",
      "101\n",
      "Anirban\n",
      "20000.0\n",
      "HR Dept\n",
      "<class 'tuple'>\n"
     ]
    }
   ],
   "source": [
    "# creating of nested tuple\n",
    "tuple4 = (\"points\", [1,4,3], (7,8,6))\n",
    "print(tuple4)\n",
    "\n",
    "# tuple can be created without any parenthesis\n",
    "# also called tuple packing\n",
    "tuple5 = 101, \"Anirban\", 20000.00, \"HR Dept\"\n",
    "print(tuple5)\n",
    "\n",
    "# tuple unpacking is also possible\n",
    "empid,empname,empsa1,empdept = tuple5\n",
    "print(empid)\n",
    "print(empname)\n",
    "print(empsa1)\n",
    "print(empdept)\n",
    "\n",
    "print(type(tuple5))"
   ]
  },
  {
   "cell_type": "code",
   "execution_count": 8,
   "id": "fd978689-89e8-48d0-b179-255d1d38db54",
   "metadata": {},
   "outputs": [
    {
     "name": "stdout",
     "output_type": "stream",
     "text": [
      "('w', 'e', 'l', 'c', 'o', 'm', 'e')\n",
      "e\n",
      "c\n",
      "m\n",
      "('point', [1, 3, 4], (8, 7, 9))\n",
      "n\n",
      "4\n",
      "9\n"
     ]
    }
   ],
   "source": [
    "# accessing elements in a tuple\n",
    "tuple1 = ('w','e','l','c','o','m','e')\n",
    "print(tuple1)\n",
    "print(tuple1[1])\n",
    "print(tuple1[3])\n",
    "print(tuple1[5])\n",
    "\n",
    "# nested tuple\n",
    "nest_tuple2 = (\"point\", [1,3,4], (8,7,9))\n",
    "print(nest_tuple2)\n",
    "print(nest_tuple2[0][3])\n",
    "print(nest_tuple2[1][2])\n",
    "print(nest_tuple2[2][2])"
   ]
  },
  {
   "cell_type": "code",
   "execution_count": 10,
   "id": "ac846d91-4fca-464b-9144-cadb946b9b02",
   "metadata": {},
   "outputs": [
    {
     "name": "stdout",
     "output_type": "stream",
     "text": [
      "('e', 'l')\n",
      "('w', 'e', 'l', 'c')\n",
      "('c', 'o', 'm', 'e')\n",
      "('w', 'e', 'l', 'c', 'o', 'm', 'e')\n"
     ]
    }
   ],
   "source": [
    "# slicing tuple contents\n",
    "tuple1 = ('w', 'e', 'l', 'c', 'o', 'm', 'e')\n",
    "\n",
    "print(tuple1[1:3])\n",
    "\n",
    "print(tuple1[:-3])\n",
    "\n",
    "print(tuple1[3:])\n",
    "\n",
    "print(tuple1[:])"
   ]
  },
  {
   "cell_type": "code",
   "execution_count": 12,
   "id": "43ae6259-7a58-49d9-bd65-1deb66ffb043",
   "metadata": {},
   "outputs": [
    {
     "name": "stdout",
     "output_type": "stream",
     "text": [
      "('w', 'e', 'l', 'c', 'o', 'm', 'e')\n",
      "('g', 'o', 'o', 'd', 'b', 'y', 'e')\n"
     ]
    }
   ],
   "source": [
    "# tuple element are immutable\n",
    "tuple1 = ('w','e','l','c','o','m','e')\n",
    "print(tuple1)\n",
    "# tuple1[2] = 'x'    # error\n",
    "\n",
    "# tuples can be reassigned\n",
    "tuple1 = ('g','o','o','d','b','y','e')\n",
    "print(tuple1)"
   ]
  },
  {
   "cell_type": "code",
   "execution_count": 13,
   "id": "1c620aa7-eef6-48cb-a9fe-17b31ac9d02e",
   "metadata": {},
   "outputs": [
    {
     "name": "stdout",
     "output_type": "stream",
     "text": [
      "('w', 'e', 'l')\n",
      "('c', 'o', 'm', 'e')\n",
      "('w', 'e', 'l', 'c', 'o', 'm', 'e')\n",
      "('again', 'again', 'again', 'again')\n"
     ]
    }
   ],
   "source": [
    "# concatenation of tuples\n",
    "tuple2 = ('w','e','l')\n",
    "tuple3 = ('c','o','m','e')\n",
    "print(tuple2)\n",
    "print(tuple3)\n",
    "print(tuple2 + tuple3)\n",
    "\n",
    "print((\"again\",) * 4)"
   ]
  },
  {
   "cell_type": "code",
   "execution_count": 14,
   "id": "78789738-62ea-40cc-b4f9-fa1dfe3b211e",
   "metadata": {},
   "outputs": [
    {
     "ename": "NameError",
     "evalue": "name 'tuple4' is not defined",
     "output_type": "error",
     "traceback": [
      "\u001b[1;31m---------------------------------------------------------------------------\u001b[0m",
      "\u001b[1;31mNameError\u001b[0m                                 Traceback (most recent call last)",
      "\u001b[1;32m<ipython-input-14-2ff638b3ac8f>\u001b[0m in \u001b[0;36m<module>\u001b[1;34m\u001b[0m\n\u001b[0;32m      7\u001b[0m \u001b[1;31m# but you can delete entire tuple\u001b[0m\u001b[1;33m\u001b[0m\u001b[1;33m\u001b[0m\u001b[1;33m\u001b[0m\u001b[0m\n\u001b[0;32m      8\u001b[0m \u001b[1;32mdel\u001b[0m \u001b[0mtuple4\u001b[0m\u001b[1;33m\u001b[0m\u001b[1;33m\u001b[0m\u001b[0m\n\u001b[1;32m----> 9\u001b[1;33m \u001b[0mprint\u001b[0m\u001b[1;33m(\u001b[0m\u001b[0mtuple4\u001b[0m\u001b[1;33m)\u001b[0m\u001b[1;33m\u001b[0m\u001b[1;33m\u001b[0m\u001b[0m\n\u001b[0m",
      "\u001b[1;31mNameError\u001b[0m: name 'tuple4' is not defined"
     ]
    }
   ],
   "source": [
    "# deletion operation on a tuple\n",
    "tuple4 = ('w','e','l','c','o','m','e')\n",
    "\n",
    "# as immutable so elements can not be deleted\n",
    "# del tuple4[2]\n",
    "\n",
    "# but you can delete entire tuple\n",
    "del tuple4\n",
    "print(tuple4)"
   ]
  },
  {
   "cell_type": "code",
   "execution_count": 16,
   "id": "57f4f01a-e8c3-413e-a16e-3afa65548986",
   "metadata": {},
   "outputs": [
    {
     "name": "stdout",
     "output_type": "stream",
     "text": [
      "2\n",
      "3\n"
     ]
    }
   ],
   "source": [
    "# tuple methods\n",
    "tuple5 = ('w','e','l','c','o','m','e','c')\n",
    "print(tuple5.count('e'))\n",
    "print(tuple5.index('c'))"
   ]
  },
  {
   "cell_type": "code",
   "execution_count": 17,
   "id": "d6d7b826-70dd-428d-8edd-d7235c9ed58a",
   "metadata": {},
   "outputs": [
    {
     "name": "stdout",
     "output_type": "stream",
     "text": [
      "('w', 'e', 'l', 'c', 'o', 'm', 'e')\n",
      "True\n",
      "False\n",
      "False\n",
      "True\n"
     ]
    }
   ],
   "source": [
    "# tuple operations\n",
    "tuple6 = ('w','e','l','c','o','m','e')\n",
    "print(tuple6)\n",
    "# membership\n",
    "print('c' in tuple6)\n",
    "print('c' not in tuple6)\n",
    "print('a' in tuple6)\n",
    "print('a' not in tuple6)\n"
   ]
  },
  {
   "cell_type": "code",
   "execution_count": 19,
   "id": "873e1214-febb-4ce4-a903-8967ecc1790d",
   "metadata": {},
   "outputs": [
    {
     "name": "stdout",
     "output_type": "stream",
     "text": [
      "letter is ->  w\n",
      "letter is ->  e\n",
      "letter is ->  l\n",
      "letter is ->  c\n",
      "letter is ->  o\n",
      "letter is ->  m\n",
      "letter is ->  e\n"
     ]
    }
   ],
   "source": [
    "# iterat(ion through tuple elements\n",
    "tuple6 = ('w','e','l','c','o','m','e')\n",
    "for letters in tuple6:\n",
    "    print(\"letter is -> \",letters)"
   ]
  },
  {
   "cell_type": "code",
   "execution_count": 18,
   "id": "f9aa7d3d-7e9a-4a7c-9a07-73af600bc46c",
   "metadata": {},
   "outputs": [
    {
     "name": "stdout",
     "output_type": "stream",
     "text": [
      "(22, 33, 55, 44, 77, 66, 11)\n",
      "77\n",
      "11\n",
      "[11, 22, 33, 44, 55, 66, 77]\n",
      "7\n"
     ]
    }
   ],
   "source": [
    "# built-in functions with tuple\n",
    "tuple7 = (22,33,55,44,77,66,11)\n",
    "print(tuple7)\n",
    "\n",
    "print(max(tuple7))\n",
    "print(min(tuple7))\n",
    "print(sorted(tuple7))\n",
    "print(len(tuple7))"
   ]
  },
  {
   "cell_type": "code",
   "execution_count": null,
   "id": "fc3f14a9-57d3-4afd-914b-8af550e0c15a",
   "metadata": {},
   "outputs": [],
   "source": []
  }
 ],
 "metadata": {
  "kernelspec": {
   "display_name": "Python 3",
   "language": "python",
   "name": "python3"
  },
  "language_info": {
   "codemirror_mode": {
    "name": "ipython",
    "version": 3
   },
   "file_extension": ".py",
   "mimetype": "text/x-python",
   "name": "python",
   "nbconvert_exporter": "python",
   "pygments_lexer": "ipython3",
   "version": "3.8.8"
  }
 },
 "nbformat": 4,
 "nbformat_minor": 5
}
