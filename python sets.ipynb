{
 "cells": [
  {
   "cell_type": "code",
   "execution_count": null,
   "id": "3f01d8cd",
   "metadata": {},
   "outputs": [],
   "source": []
  },
  {
   "cell_type": "code",
   "execution_count": 7,
   "id": "54fa1b07-30eb-49d1-bdee-ac506fd5a00a",
   "metadata": {},
   "outputs": [
    {
     "name": "stdout",
     "output_type": "stream",
     "text": [
      "{33, 66, 11, 44, 22, 55}\n",
      "{33, 11, 44, 22}\n",
      "{33, 11, 44, 22}\n"
     ]
    }
   ],
   "source": [
    "# creating sets\n",
    "# set of integers\n",
    "my_set1 = {11,33,55,66,44,22}\n",
    "print(my_set1)\n",
    "\n",
    "# set of mixed datatypes\n",
    "my_set2 = {101, \"Agnibha\", (21, 2, 1994)}\n",
    "print(my_set3)\n",
    "\n",
    "# duplicate values are not allowed\n",
    "my_set3 = {11,22,33,33,44,22}\n",
    "print(my_set3)"
   ]
  },
  {
   "cell_type": "code",
   "execution_count": 9,
   "id": "6551f425-6498-4daf-a8ff-cdacb8325333",
   "metadata": {},
   "outputs": [
    {
     "name": "stdout",
     "output_type": "stream",
     "text": [
      "{1, 2, 3}\n",
      "<class 'set'>\n",
      "[33, 11, 44, 22]\n",
      "<class 'list'>\n"
     ]
    }
   ],
   "source": [
    "# set cannnot have mutable items\n",
    "# my_set4 = {1, 2, [3, 4]}\n",
    "\n",
    "# we can make set from a list\n",
    "my_set5 = set([1,2,3,2])\n",
    "print(my_set5)\n",
    "print(type(my_set5))\n",
    "\n",
    "# we can make list from a set\n",
    "my_list1 = list({11,22,33,44})\n",
    "print(my_list1)\n",
    "print(type(my_list1))"
   ]
  },
  {
   "cell_type": "code",
   "execution_count": 10,
   "id": "ba0087a6-62b6-4c9e-9683-d41e9c5a5341",
   "metadata": {},
   "outputs": [
    {
     "name": "stdout",
     "output_type": "stream",
     "text": [
      "{33, 66.55, 11, 44}\n",
      "{33, 66.55, 11, 44, 77}\n",
      "{33, 66.55, 99, 11, 44, 77, 22, 88}\n",
      "{33, 66.55, 99, 100, 102, 103, 104, 105, 11, 44, 77, 22, 88}\n"
     ]
    }
   ],
   "source": [
    "# operations on sets\n",
    "my_set1 = {11,33,44,66.55}\n",
    "print(my_set1)\n",
    "\n",
    "# 'set' object does not support indexing\n",
    "\n",
    "# my_set1[0]\n",
    "\n",
    "# add an element\n",
    "my_set1.add(77)\n",
    "print(my_set1)\n",
    "\n",
    "# add multiple elements\n",
    "my_set1.update([88,99,22])\n",
    "print(my_set1)\n",
    "\n",
    "# add list and set\n",
    "my_set1.update([100,102], {103,104,105})\n",
    "print(my_set1)"
   ]
  },
  {
   "cell_type": "code",
   "execution_count": 12,
   "id": "80e8cd62-4eed-4b26-9fa5-1528524c78e7",
   "metadata": {},
   "outputs": [
    {
     "name": "stdout",
     "output_type": "stream",
     "text": [
      "{33, 66, 11, 44, 55}\n",
      "{33, 66, 11, 44, 55}\n",
      "{33, 66, 11, 44, 55}\n",
      "{33, 66, 11, 55}\n",
      "{33, 66, 11}\n"
     ]
    }
   ],
   "source": [
    "# remove and discard\n",
    "# initialise my_set\n",
    "my_set1 = {11, 33, 44, 55, 66}\n",
    "print(my_set1)\n",
    "\n",
    "# discard an element which is not present, no error\n",
    "my_set1.discard(4)\n",
    "print(my_set1)\n",
    "\n",
    "# remove an element which is not present, error raised\n",
    "# my_set.remove(6)\n",
    "print(my_set1)\n",
    "\n",
    "# discard an element\n",
    "my_set1.discard(44)\n",
    "print(my_set1)\n",
    "my_set1.remove(55)\n",
    "print(my_set1)\n"
   ]
  },
  {
   "cell_type": "code",
   "execution_count": 13,
   "id": "7554b701-6d07-4342-b868-a2e4829fdd2e",
   "metadata": {},
   "outputs": [
    {
     "name": "stdout",
     "output_type": "stream",
     "text": [
      "{33, 66, 11, 44, 55}\n",
      "<built-in method pop of set object at 0x000001FBD5ACCF20>\n",
      "33\n",
      "{66, 11, 44, 55}\n",
      "set()\n"
     ]
    }
   ],
   "source": [
    "# using pop()\n",
    "# initialize my_set\n",
    "my_set1 = {11,33,44,55,66}\n",
    "print(my_set1)\n",
    "\n",
    "# pop an element\n",
    "print(my_set1.pop)\n",
    "\n",
    "# pop another element\n",
    "print(my_set1.pop())\n",
    "print(my_set1)\n",
    "\n",
    "# clear my_set\n",
    "my_set1.clear()\n",
    "print(my_set1)"
   ]
  },
  {
   "cell_type": "code",
   "execution_count": 15,
   "id": "e1e4eeaf-655f-4da6-a67f-7451d45c6699",
   "metadata": {},
   "outputs": [
    {
     "name": "stdout",
     "output_type": "stream",
     "text": [
      "{0, 1, 2, 3, 4, 5}\n",
      "{4, 5, 6, 7, 8, 9}\n",
      "{0, 1, 2, 3, 4, 5, 6, 7, 8, 9}\n",
      "{0, 1, 2, 3, 4, 5, 6, 7, 8, 9}\n",
      "{0, 1, 2, 3, 4, 5, 6, 7, 8, 9}\n",
      "{0, 1, 2, 3, 4, 5}\n"
     ]
    }
   ],
   "source": [
    "# set operations - union\n",
    "myset1 = {0,1,2,3,4,5}\n",
    "myset2 = {4,5,6,7,8,9}\n",
    "print(myset1)\n",
    "print(myset2)\n",
    "\n",
    "# use / operator for union\n",
    "print(myset1 | myset2)\n",
    "print(myset2 | myset1)\n",
    "print(myset1.union(myset2))\n",
    "print(myset1.union(myset1))"
   ]
  },
  {
   "cell_type": "code",
   "execution_count": 17,
   "id": "521be786-3582-4b6b-befc-59799f71d11c",
   "metadata": {},
   "outputs": [
    {
     "name": "stdout",
     "output_type": "stream",
     "text": [
      "{0, 1, 2, 3, 4, 5}\n",
      "{4, 5, 6, 7, 8, 9}\n",
      "{4, 5}\n",
      "{4, 5}\n",
      "{4, 5}\n",
      "{4, 5, 6, 7, 8, 9}\n"
     ]
    }
   ],
   "source": [
    "# set operations - intersection\n",
    "myset1 = {0,1,2,3,4,5}\n",
    "myset2 = {4,5,6,7,8,9}\n",
    "print(myset1)\n",
    "print(myset2)\n",
    "\n",
    "# use & operator for intersection\n",
    "print(myset1 & myset2)\n",
    "print(myset2 & myset1)\n",
    "print(myset1.intersection(myset2))\n",
    "print(myset2.intersection(myset2))"
   ]
  },
  {
   "cell_type": "code",
   "execution_count": 18,
   "id": "b7b6f4aa-e2ea-42d6-85e9-e68b5b6dadb4",
   "metadata": {},
   "outputs": [
    {
     "name": "stdout",
     "output_type": "stream",
     "text": [
      "{0, 1, 2, 3, 4, 5}\n",
      "{4, 5, 6, 7, 8, 9}\n",
      "{0, 1, 2, 3}\n",
      "{8, 9, 6, 7}\n",
      "{0, 1, 2, 3}\n",
      "{8, 9, 6, 7}\n",
      "set()\n"
     ]
    }
   ],
   "source": [
    "# set operations difference\n",
    "myset1 = {0,1,2,3,4,5}\n",
    "myset2 = {4,5,6,7,8,9}\n",
    "print(myset1)\n",
    "print(myset2)\n",
    "\n",
    "# use - operator for set difference\n",
    "print(myset1 - myset2)\n",
    "print(myset2 - myset1)\n",
    "print(myset1.difference(myset2))\n",
    "print(myset2.difference(myset1))\n",
    "print(myset2.difference(myset2))"
   ]
  },
  {
   "cell_type": "code",
   "execution_count": 19,
   "id": "cc07a9e5-6a18-4064-b284-e872bd029462",
   "metadata": {},
   "outputs": [
    {
     "name": "stdout",
     "output_type": "stream",
     "text": [
      "{0, 1, 2, 3, 4, 5}\n",
      "{4, 5, 6, 7, 8, 9}\n",
      "{0, 1, 2, 3, 6, 7, 8, 9}\n",
      "{0, 1, 2, 3, 6, 7, 8, 9}\n",
      "{0, 1, 2, 3, 6, 7, 8, 9}\n",
      "{0, 1, 2, 3, 6, 7, 8, 9}\n"
     ]
    }
   ],
   "source": [
    "# set operations - symmetric difference\n",
    "myset1 = {0,1,2,3,4,5}\n",
    "myset2 = {4,5,6,7,8,9}\n",
    "print(myset1)\n",
    "print(myset2)\n",
    "\n",
    "# use ^ operator for symmetric difference\n",
    "print(myset1 ^ myset2)\n",
    "print(myset2 ^ myset1)\n",
    "print(myset1.symmetric_difference(myset2))\n",
    "print(myset2.symmetric_difference(myset1))"
   ]
  },
  {
   "cell_type": "code",
   "execution_count": 20,
   "id": "a175fea5-6950-4bc7-a316-2fb37bb19db1",
   "metadata": {},
   "outputs": [
    {
     "name": "stdout",
     "output_type": "stream",
     "text": [
      "True\n",
      "False\n",
      "False\n",
      "True\n"
     ]
    }
   ],
   "source": [
    "# set membership\n",
    "myset1 = {0,1,2,3,4,5}\n",
    "print(2 in myset1)\n",
    "print(6 in myset1)\n",
    "print(2 not in myset1)\n",
    "print(6 not in myset1)"
   ]
  },
  {
   "cell_type": "code",
   "execution_count": 22,
   "id": "59efde44-82d8-4c0e-b815-347857dbb1d6",
   "metadata": {},
   "outputs": [
    {
     "name": "stdout",
     "output_type": "stream",
     "text": [
      "w\n",
      "e\n",
      "l\n",
      "o\n",
      "m\n",
      "c\n"
     ]
    }
   ],
   "source": [
    "# iterating through a set\n",
    "for letter in set (\"welcome\"):\n",
    "    print(letter)"
   ]
  },
  {
   "cell_type": "code",
   "execution_count": 21,
   "id": "aff13dbd-f47f-404a-8db2-7e5385925a0e",
   "metadata": {},
   "outputs": [
    {
     "name": "stdout",
     "output_type": "stream",
     "text": [
      "6\n",
      "5\n",
      "0\n",
      "[0, 1, 2, 3, 4, 5]\n"
     ]
    }
   ],
   "source": [
    "# built_in functions with set\n",
    "myset1 = {0,1,2,3,4,5}\n",
    "print(len(myset1))\n",
    "print(max(myset1))\n",
    "print(min(myset1))\n",
    "print(sorted(myset1))"
   ]
  },
  {
   "cell_type": "code",
   "execution_count": 23,
   "id": "953ba947-7ebf-4668-a085-afb96b0919a7",
   "metadata": {},
   "outputs": [
    {
     "name": "stdout",
     "output_type": "stream",
     "text": [
      "frozenset({1, 2, 3, 4})\n",
      "frozenset({3, 4, 5, 6})\n",
      "frozenset({1, 2})\n",
      "frozenset({1, 2, 3, 4, 5, 6})\n",
      "frozenset({3, 4})\n",
      "frozenset({1, 2, 5, 6})\n"
     ]
    }
   ],
   "source": [
    "# python frozenset\n",
    "# frozenset is a new set that have the characteristics\n",
    "# of a set, but its element cannot be changed once assighned.\n",
    "# while tuples are immutable lists, frozenset are immutable set\n",
    "# initialize A and B\n",
    "myset1 = frozenset([1,2,3,4])\n",
    "myset2 = frozenset([3,4,5,6])\n",
    "print(myset1)\n",
    "print(myset2)\n",
    "print(myset1.difference(myset2))\n",
    "print(myset1.union(myset2))\n",
    "print(myset1.intersection(myset2))\n",
    "print(myset1.symmetric_difference(myset2))\n",
    "# myset1.add(10)"
   ]
  },
  {
   "cell_type": "code",
   "execution_count": null,
   "id": "0e21e5b6-24d4-48e4-aff0-d7afc59d1c36",
   "metadata": {},
   "outputs": [],
   "source": []
  },
  {
   "cell_type": "code",
   "execution_count": null,
   "id": "e911c4df-d142-4e28-9222-34d505471f2a",
   "metadata": {},
   "outputs": [],
   "source": []
  }
 ],
 "metadata": {
  "kernelspec": {
   "display_name": "Python 3",
   "language": "python",
   "name": "python3"
  },
  "language_info": {
   "codemirror_mode": {
    "name": "ipython",
    "version": 3
   },
   "file_extension": ".py",
   "mimetype": "text/x-python",
   "name": "python",
   "nbconvert_exporter": "python",
   "pygments_lexer": "ipython3",
   "version": "3.8.8"
  }
 },
 "nbformat": 4,
 "nbformat_minor": 5
}
