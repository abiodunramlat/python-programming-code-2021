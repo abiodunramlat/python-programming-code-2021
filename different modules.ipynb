{
 "cells": [
  {
   "cell_type": "code",
   "execution_count": 1,
   "id": "e3eb7081",
   "metadata": {},
   "outputs": [
    {
     "name": "stdout",
     "output_type": "stream",
     "text": [
      "the value of pi is 3.141592653589793\n"
     ]
    }
   ],
   "source": [
    "# Importing module as well as renaming it.\n",
    "import math as m\n",
    "\n",
    "print(\"the value of pi is\", m.pi)"
   ]
  },
  {
   "cell_type": "code",
   "execution_count": 2,
   "id": "e5cfcce5-a338-4704-836a-5fc368267450",
   "metadata": {},
   "outputs": [
    {
     "name": "stdout",
     "output_type": "stream",
     "text": [
      "the value of pi is 3.141592653589793\n"
     ]
    }
   ],
   "source": [
    "# Usage of from\n",
    "from math import pi\n",
    "\n",
    "print(\"the value of pi is\", pi)"
   ]
  },
  {
   "cell_type": "code",
   "execution_count": 3,
   "id": "89a2c6ea-2668-42a0-8580-5557328ae6f9",
   "metadata": {},
   "outputs": [
    {
     "name": "stdout",
     "output_type": "stream",
     "text": [
      "the value of pi is 3.141592653589793\n"
     ]
    }
   ],
   "source": [
    "# Import all name from the standard module math\n",
    "from math import *\n",
    "\n",
    "print(\"the value of pi is\", pi)"
   ]
  },
  {
   "cell_type": "code",
   "execution_count": null,
   "id": "66fce800-fe80-46d3-a879-59d6779b7061",
   "metadata": {},
   "outputs": [],
   "source": []
  }
 ],
 "metadata": {
  "kernelspec": {
   "display_name": "Python 3",
   "language": "python",
   "name": "python3"
  },
  "language_info": {
   "codemirror_mode": {
    "name": "ipython",
    "version": 3
   },
   "file_extension": ".py",
   "mimetype": "text/x-python",
   "name": "python",
   "nbconvert_exporter": "python",
   "pygments_lexer": "ipython3",
   "version": "3.8.8"
  }
 },
 "nbformat": 4,
 "nbformat_minor": 5
}
