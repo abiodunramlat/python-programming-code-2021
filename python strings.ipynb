{
 "cells": [
  {
   "cell_type": "code",
   "execution_count": 3,
   "id": "4c6223a6",
   "metadata": {},
   "outputs": [
    {
     "name": "stdout",
     "output_type": "stream",
     "text": [
      "welcome\n",
      "welcome\n",
      "welcome\n",
      "welcome\n",
      "to the world of \n",
      "python programming\n"
     ]
    }
   ],
   "source": [
    "# different ways to define a string in python\n",
    "mystr1 = 'welcome'\n",
    "print(mystr1)\n",
    "\n",
    "mystr2 = \"welcome\"\n",
    "print(mystr2)\n",
    "\n",
    "mystr3 = '''welcome'''\n",
    "print(mystr3)\n",
    "\n",
    "# triple quotes string can extend multiple times\n",
    "mystr3 = '''welcome\n",
    "to the world of \n",
    "python programming'''\n",
    "print(mystr3)"
   ]
  },
  {
   "cell_type": "code",
   "execution_count": 7,
   "id": "128a4920-8ad3-44bd-9d48-b0d1219a0c45",
   "metadata": {},
   "outputs": [
    {
     "name": "stdout",
     "output_type": "stream",
     "text": [
      "mystr =  language\n",
      "mystr[0] =  l\n",
      "mystr[7] =  e\n",
      "mystr[-1] =  e\n",
      "mystr[1:5] =  angu\n",
      "mystr[5:-2] =  a\n",
      "mystr[4:-2] =  ua\n"
     ]
    }
   ],
   "source": [
    "# accessing character in a string\n",
    "mystr = 'language'\n",
    "print('mystr = ',mystr)\n",
    "\n",
    "print('mystr[0] = ' , mystr[0])\n",
    "print('mystr[7] = ' , mystr[7])\n",
    "print('mystr[-1] = ' , mystr[-1])\n",
    "print('mystr[1:5] = ' , mystr[1:5])\n",
    "print('mystr[5:-2] = ' , mystr[5:-2])\n",
    "print('mystr[4:-2] = ' , mystr[4:-2])\n",
    "# print('mystr[10] = ', mystr[10])"
   ]
  },
  {
   "cell_type": "code",
   "execution_count": 8,
   "id": "cf8aa092-5e9c-48c5-8971-47aa5979b945",
   "metadata": {},
   "outputs": [
    {
     "name": "stdout",
     "output_type": "stream",
     "text": [
      "language\n",
      "programming\n"
     ]
    }
   ],
   "source": [
    "# strings are immutable\n",
    "# but different stringd can be assigned\n",
    "\n",
    "mystr = 'language'\n",
    "print(mystr)\n",
    "\n",
    "mystr = 'programming'\n",
    "print(mystr)\n",
    "\n",
    "# mystr[3] = 'x'"
   ]
  },
  {
   "cell_type": "code",
   "execution_count": 9,
   "id": "177aa576-177f-4e32-8b20-71742f012ebe",
   "metadata": {},
   "outputs": [
    {
     "name": "stdout",
     "output_type": "stream",
     "text": [
      "language\n",
      "programming\n"
     ]
    },
    {
     "ename": "TypeError",
     "evalue": "'str' object does not support item assignment",
     "output_type": "error",
     "traceback": [
      "\u001b[1;31m---------------------------------------------------------------------------\u001b[0m",
      "\u001b[1;31mTypeError\u001b[0m                                 Traceback (most recent call last)",
      "\u001b[1;32m<ipython-input-9-14f5881b8933>\u001b[0m in \u001b[0;36m<module>\u001b[1;34m\u001b[0m\n\u001b[0;32m      8\u001b[0m \u001b[0mprint\u001b[0m\u001b[1;33m(\u001b[0m\u001b[0mmystr\u001b[0m\u001b[1;33m)\u001b[0m\u001b[1;33m\u001b[0m\u001b[1;33m\u001b[0m\u001b[0m\n\u001b[0;32m      9\u001b[0m \u001b[1;33m\u001b[0m\u001b[0m\n\u001b[1;32m---> 10\u001b[1;33m \u001b[0mmystr\u001b[0m\u001b[1;33m[\u001b[0m\u001b[1;36m3\u001b[0m\u001b[1;33m]\u001b[0m \u001b[1;33m=\u001b[0m \u001b[1;34m'x'\u001b[0m\u001b[1;33m\u001b[0m\u001b[1;33m\u001b[0m\u001b[0m\n\u001b[0m",
      "\u001b[1;31mTypeError\u001b[0m: 'str' object does not support item assignment"
     ]
    }
   ],
   "source": [
    "# strings are immutable\n",
    "# but different stringd can be assigned\n",
    "\n",
    "mystr = 'language'\n",
    "print(mystr)\n",
    "\n",
    "mystr = 'programming'\n",
    "print(mystr)\n",
    "\n",
    "mystr[3] = 'x'"
   ]
  },
  {
   "cell_type": "code",
   "execution_count": 13,
   "id": "8ce11953-f7a6-4e8f-8a11-8cfba91b92b8",
   "metadata": {},
   "outputs": [
    {
     "name": "stdout",
     "output_type": "stream",
     "text": [
      "mystr1 + mystr2 =  welcome to all\n",
      "mystr1 * 3 = welcomewelcomewelcome\n"
     ]
    }
   ],
   "source": [
    "# concatenation of strings\n",
    "mystr1 = 'welcome'\n",
    "mystr2 = ' to all'\n",
    "\n",
    "# using +\n",
    "print('mystr1 + mystr2 = ', mystr1 + mystr2)\n",
    "\n",
    "# using +\n",
    "print('mystr1 * 3 =', mystr1 * 3)\n"
   ]
  },
  {
   "cell_type": "code",
   "execution_count": 14,
   "id": "8021059e-e263-4087-baed-97e62cdb198d",
   "metadata": {},
   "outputs": [
    {
     "name": "stdout",
     "output_type": "stream",
     "text": [
      "mystr1 + mystr2 =  welcometo all\n",
      "mystr1 * 3 = welcomewelcomewelcome\n"
     ]
    }
   ],
   "source": [
    "# concatenation of strings\n",
    "mystr1 = 'welcome'\n",
    "mystr2 = 'to all'\n",
    "\n",
    "# using +\n",
    "print('mystr1 + mystr2 = ', mystr1 + mystr2)\n",
    "\n",
    "# using +\n",
    "print('mystr1 * 3 =', mystr1 * 3)\n"
   ]
  },
  {
   "cell_type": "code",
   "execution_count": 22,
   "id": "3a285b72-c805-47f3-9500-77b68358f3dd",
   "metadata": {},
   "outputs": [
    {
     "name": "stdout",
     "output_type": "stream",
     "text": [
      "3 times l letter has been found\n"
     ]
    }
   ],
   "source": [
    "# iteration through a string\n",
    "letter_count = 0\n",
    "for letters in 'Hello World':\n",
    "    if(letters == 'l'):\n",
    "        letter_count += 1   # increase BY 1\n",
    "print(letter_count, 'times l letter has been found')"
   ]
  },
  {
   "cell_type": "code",
   "execution_count": 23,
   "id": "106b9e58-448f-4986-9f53-e8a437ce15dd",
   "metadata": {},
   "outputs": [
    {
     "name": "stdout",
     "output_type": "stream",
     "text": [
      "True\n",
      "False\n",
      "False\n",
      "True\n"
     ]
    }
   ],
   "source": [
    "# string membership\n",
    "print('l' in 'hello')\n",
    "print('l' not in 'hello')\n",
    "print('b' in 'hello')\n",
    "print('b' not in 'hello')\n"
   ]
  },
  {
   "cell_type": "code",
   "execution_count": 25,
   "id": "a03f0aa6-d613-4668-a50e-22024925bf79",
   "metadata": {},
   "outputs": [
    {
     "name": "stdout",
     "output_type": "stream",
     "text": [
      "list(enumerate(mystr))   [(0, 'u'), (1, 'n'), (2, 'i'), (3, 'v'), (4, 'e'), (5, 'r'), (6, 's'), (7, 'i'), (8, 't'), (9, 'y')]\n",
      "len(mystr) =  10\n"
     ]
    }
   ],
   "source": [
    "# built-in function\n",
    "mystr = 'university'\n",
    "\n",
    "# using enumerate()\n",
    "my_list_enumerate = list(enumerate(mystr))\n",
    "print('list(enumerate(mystr))  ', my_list_enumerate)\n",
    "\n",
    "# using character count\n",
    "print('len(mystr) = ', len(mystr))"
   ]
  },
  {
   "cell_type": "code",
   "execution_count": 26,
   "id": "fd74bbad-f449-4ada-8bcb-b8a637f43e66",
   "metadata": {},
   "outputs": [
    {
     "name": "stdout",
     "output_type": "stream",
     "text": [
      "tell me \"what's your name?\"\n",
      "tell me \"what's your name?\"\n",
      "tell me 'what's your name?'\n",
      "tell me \"what's your name?\"\n"
     ]
    }
   ],
   "source": [
    "# string formatting using escape sequence\n",
    "# print(\" tell me \"what's your name?\"\")\n",
    "\n",
    "# using (triple quotes)\n",
    "print('''tell me \"what's your name?\"''')\n",
    "\n",
    "# escaping single quotes\n",
    "print('tell me \"what\\'s your name?\"')\n",
    "\n",
    "# escaping single quotes\n",
    "print(\"tell me 'what\\'s your name?'\")\n",
    "\n",
    "# escaping double quotes\n",
    "print(\"tell me \\\"what's your name?\\\"\")"
   ]
  },
  {
   "cell_type": "code",
   "execution_count": 28,
   "id": "c921e862-177b-4579-97ad-b38c5ad64303",
   "metadata": {},
   "outputs": [
    {
     "name": "stdout",
     "output_type": "stream",
     "text": [
      "c:\\user\\mydata.txt\n",
      "this line is having a new line \n",
      "character\n",
      "this line is having a tab \t character\n",
      "ABC written in ABC (HEX) representation\n"
     ]
    }
   ],
   "source": [
    "print(\"c:\\\\user\\\\mydata.txt\")\n",
    "print(\"this line is having a new line \\ncharacter\")\n",
    "print(\"this line is having a tab \\t character\")    # dont understand\n",
    "print(\"ABC written in \\x41\\x42\\x43 (HEX) representation\")"
   ]
  },
  {
   "cell_type": "code",
   "execution_count": 35,
   "id": "ce4b4be0-19ef-471b-b5b8-dbdf6fc09cd3",
   "metadata": {},
   "outputs": [
    {
     "name": "stdout",
     "output_type": "stream",
     "text": [
      "today is and sunday\n",
      "Today is and Sunday\n",
      "Today is and Sunday\n"
     ]
    }
   ],
   "source": [
    "# format() method\n",
    "# default (implicit) order\n",
    "default_order = \"{} {} and {}\".format ('today', 'is', 'sunday')\n",
    "print(default_order)\n",
    "\n",
    "# order using positional argument\n",
    "positional_order = \"{1} {0} and {2}\".format('is', 'Today', 'Sunday')\n",
    "print(positional_order)\n",
    "\n",
    "# orderr using keyboard argument\n",
    "keyboard_order = \"{t} {i} and {s}\".format(i='is',t='Today',s='Sunday')\n",
    "print(keyboard_order)"
   ]
  },
  {
   "cell_type": "code",
   "execution_count": 41,
   "id": "2bce3730-aeec-4adc-89f9-a535fbd71cdb",
   "metadata": {},
   "outputs": [
    {
     "name": "stdout",
     "output_type": "stream",
     "text": [
      "Required binary representation of 20 is 10100\n",
      "Exponent representation: 1.566345e+03\n",
      "one third is: 0.333\n"
     ]
    }
   ],
   "source": [
    "# formatting numbers\n",
    "print(\"Required binary representation of {0} is {0:b}\".format(20))\n",
    "\n",
    "# formatting floats\n",
    "print(\"Exponent representation: {0:e}\".format(1566.345))\n",
    "\n",
    "# round off\n",
    "print(\"one third is: {0:.3f}\".format(1/3))"
   ]
  },
  {
   "cell_type": "code",
   "execution_count": 44,
   "id": "d3ddc240-d88d-404d-a71c-0d77ca8bba37",
   "metadata": {},
   "outputs": [
    {
     "name": "stdout",
     "output_type": "stream",
     "text": [
      "GOOD MORNING TO ALL\n",
      "good morning to all\n",
      "13\n",
      "-1\n",
      "gOOD moRNing tO everybody\n",
      "gOOD moRNing tO alL\n"
     ]
    }
   ],
   "source": [
    "# string methods\n",
    "print(\"gOOD moRNing tO alL\".upper ())\n",
    "print(\"gOOD moRNing tO alL\".lower ())\n",
    "print(\"gOOD moRNing tO alL\".find('tO'))\n",
    "print(\"gOOD moRNing tO alL\".find('to'))\n",
    "print(\"gOOD moRNing tO alL\".replace('alL','everybody'))\n",
    "print(\"gOOD moRNing tO alL\".replace('all','everybody'))"
   ]
  },
  {
   "cell_type": "code",
   "execution_count": null,
   "id": "f61fea32-085f-4733-b0ad-2b6053f98bff",
   "metadata": {},
   "outputs": [],
   "source": []
  }
 ],
 "metadata": {
  "kernelspec": {
   "display_name": "Python 3",
   "language": "python",
   "name": "python3"
  },
  "language_info": {
   "codemirror_mode": {
    "name": "ipython",
    "version": 3
   },
   "file_extension": ".py",
   "mimetype": "text/x-python",
   "name": "python",
   "nbconvert_exporter": "python",
   "pygments_lexer": "ipython3",
   "version": "3.8.8"
  }
 },
 "nbformat": 4,
 "nbformat_minor": 5
}
